{
 "cells": [
  {
   "cell_type": "markdown",
   "id": "a66e612e-b61d-4887-81a4-635f86757045",
   "metadata": {},
   "source": [
    "Q1"
   ]
  },
  {
   "cell_type": "markdown",
   "id": "293ea5ca-2c2e-48bb-8fba-bc316f90613d",
   "metadata": {},
   "source": [
    "Class is like a blueprint that defines the properties and methods of an entity. It basically defines a structure of an object.\n",
    "\n",
    "Object is an instance of a class that shows the behaviour according to the functions it contains. \n",
    "\n",
    "For ex-\n",
    "\n",
    "Animal is a class that defines properties like it's body parts, shape, sound etc.\n",
    "we can create many objects of this class animal that will contain data and behaviour.\n"
   ]
  },
  {
   "cell_type": "code",
   "execution_count": 4,
   "id": "97a954b8-79fc-4d7d-82f0-5c41bbeb8095",
   "metadata": {},
   "outputs": [],
   "source": [
    "class Animal:\n",
    "    # body containng it's memebers and methods\n",
    "    pass\n",
    "\n",
    "A1= Animal()        # A1 is object of animal class"
   ]
  },
  {
   "cell_type": "code",
   "execution_count": null,
   "id": "bed7965f-6107-4820-853b-10f443400e7c",
   "metadata": {},
   "outputs": [],
   "source": []
  },
  {
   "cell_type": "markdown",
   "id": "dbab1f7a-89d0-44cd-9c57-907ba3b89059",
   "metadata": {},
   "source": [
    "Q2"
   ]
  },
  {
   "cell_type": "markdown",
   "id": "21b69133-cb84-4712-bfb0-17611ff063d4",
   "metadata": {},
   "source": [
    "1. Polymorphism \n",
    "2. Inheritance \n",
    "3. Encapsulation \n",
    "4. Abstraction"
   ]
  },
  {
   "cell_type": "code",
   "execution_count": null,
   "id": "498fed1b-6d14-4123-aff2-4d07d9e821fe",
   "metadata": {},
   "outputs": [],
   "source": []
  },
  {
   "cell_type": "markdown",
   "id": "8d6aa0ce-a659-4e70-8b36-fb50b2ef768d",
   "metadata": {},
   "source": [
    "Q3"
   ]
  },
  {
   "cell_type": "markdown",
   "id": "db5a9164-d2ad-42ee-9e97-19bc02a5974b",
   "metadata": {},
   "source": [
    "__init__() function is a constructor defined inside the class. It is used to initialize attributes and data members of the class. It is called when the object of the class is created.\n",
    "It is reserved method in python.\n",
    "\n",
    "For ex:\n"
   ]
  },
  {
   "cell_type": "code",
   "execution_count": 2,
   "id": "4a49d1cc-401b-4bcb-b013-71022c0a34bc",
   "metadata": {},
   "outputs": [],
   "source": [
    "class car:\n",
    "    def __init__(self,speed,brand):\n",
    "        self.__speed= speed\n",
    "        self.__brand=brand"
   ]
  },
  {
   "cell_type": "code",
   "execution_count": null,
   "id": "a251fa82-1a98-43dd-b264-889d2a8c7ce9",
   "metadata": {},
   "outputs": [],
   "source": []
  },
  {
   "cell_type": "markdown",
   "id": "32c0b617-43ea-4587-bf5a-b0f30d0fd3bc",
   "metadata": {},
   "source": [
    "Q4"
   ]
  },
  {
   "cell_type": "markdown",
   "id": "6e906ccb-9f2b-4c52-ad56-03a8ef7a7e6b",
   "metadata": {},
   "source": [
    "self is a pointer to the current class object.\n",
    "It is used to access the variables of the instance.\n",
    "\n",
    "We cannot hold two objects of a class if we do not use self to declare instance variables."
   ]
  },
  {
   "cell_type": "code",
   "execution_count": null,
   "id": "6199962f-fbb2-4c13-bb12-62da42773437",
   "metadata": {},
   "outputs": [],
   "source": []
  },
  {
   "cell_type": "markdown",
   "id": "75da6b79-1b14-4a86-bb27-0debe3f62ff4",
   "metadata": {},
   "source": [
    "Q5"
   ]
  },
  {
   "cell_type": "markdown",
   "id": "714b837b-55fa-4912-818a-87d858c23141",
   "metadata": {},
   "source": [
    "Inheritance is the important feature of Oops that enables a child class to use the properties and data of the parent class.\n",
    "\n",
    "It's use increases code reusability and removes redundancy.\n",
    "\n",
    "It is of 5 types:\n",
    "\n",
    "1. Single Inheritance:  In this , derived class inherits properties from single parent class.\n",
    "\n",
    "2. Mutliple Inheritance: In this , a class inherits properties from multiple base class.\n",
    "\n",
    "3. Mutilevel Inheritance: In this , a class inherits properties from another derived class.\n",
    "\n",
    "4. Hierarchical Inheritance: In this, multiple classes inherits from a single parent class.\n",
    "\n",
    "5. Hybrid Inheritance: This is a combination of all above 4 types of inheritance."
   ]
  },
  {
   "cell_type": "code",
   "execution_count": null,
   "id": "91e2d2d6-b71f-4a7b-977f-4d1bc7c6f6bf",
   "metadata": {},
   "outputs": [],
   "source": [
    "class a:\n",
    "    pass\n",
    "class b(a):       # single inheritance\n",
    "    pass\n",
    "class c(b):       # mutilevel inheritance \n",
    "    pass\n",
    "class d:\n",
    "    pass\n",
    "class e(a,d):      # multiple inheritance\n",
    "    pass\n",
    "class f(a):        # class b, f show hierarchichal inheritance \n",
    "    pass\n",
    "\n",
    "class g(e,f):       # hybrid inheritance\n",
    "    pass"
   ]
  },
  {
   "cell_type": "markdown",
   "id": "03d3f569-603c-4d1f-8548-ccfb7e199000",
   "metadata": {},
   "source": []
  }
 ],
 "metadata": {
  "kernelspec": {
   "display_name": "Python 3 (ipykernel)",
   "language": "python",
   "name": "python3"
  },
  "language_info": {
   "codemirror_mode": {
    "name": "ipython",
    "version": 3
   },
   "file_extension": ".py",
   "mimetype": "text/x-python",
   "name": "python",
   "nbconvert_exporter": "python",
   "pygments_lexer": "ipython3",
   "version": "3.10.8"
  }
 },
 "nbformat": 4,
 "nbformat_minor": 5
}
