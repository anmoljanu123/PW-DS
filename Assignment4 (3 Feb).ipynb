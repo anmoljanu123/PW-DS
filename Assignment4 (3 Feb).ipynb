{
 "cells": [
  {
   "cell_type": "markdown",
   "id": "2a44397a-fce2-424a-8b8a-95f722352ffe",
   "metadata": {},
   "source": [
    "Assignment 4"
   ]
  },
  {
   "cell_type": "markdown",
   "id": "8b2577e5-2643-489b-a721-0617f5cc9023",
   "metadata": {},
   "source": [
    "."
   ]
  },
  {
   "cell_type": "markdown",
   "id": "2e9e5091-e294-4f6b-bb24-30cd13d5047a",
   "metadata": {},
   "source": [
    "."
   ]
  },
  {
   "cell_type": "markdown",
   "id": "7d23d11b-e305-4410-9ad2-2fa34510d407",
   "metadata": {},
   "source": [
    "Q1"
   ]
  },
  {
   "cell_type": "markdown",
   "id": "40cbdc9e-1d4d-4580-a0f5-05c2192e709e",
   "metadata": {},
   "source": [
    "def keyword is used to create a function."
   ]
  },
  {
   "cell_type": "code",
   "execution_count": null,
   "id": "67131c38-b9bc-40d6-9826-a5fb909784e1",
   "metadata": {},
   "outputs": [],
   "source": [
    "def odd():\n",
    "    odd_ls=[]\n",
    "    for i in range(1,26):\n",
    "        if i%2!=0:\n",
    "            odd_ls.append(i)\n",
    "    return odd_ls"
   ]
  },
  {
   "cell_type": "code",
   "execution_count": null,
   "id": "15c9e47d-ca87-4960-b397-81cca455b5ee",
   "metadata": {},
   "outputs": [],
   "source": [
    "odd()"
   ]
  },
  {
   "cell_type": "code",
   "execution_count": null,
   "id": "4239a5f2-c389-4307-92c2-33eaf4f87e99",
   "metadata": {},
   "outputs": [],
   "source": []
  },
  {
   "cell_type": "markdown",
   "id": "2501083d-accf-42b0-a109-2472ea7e5491",
   "metadata": {},
   "source": [
    "Q2"
   ]
  },
  {
   "cell_type": "markdown",
   "id": "a0583eb3-78be-4632-98ce-60e149a3596d",
   "metadata": {},
   "source": [
    "*args and **kwargs are used to pass variable number of arguments in a function.\n",
    "\n",
    "*args -   passes non keyword arguments\n",
    "**kwargs- passes keyword arguments \n"
   ]
  },
  {
   "cell_type": "code",
   "execution_count": null,
   "id": "c128dfe2-2210-4e39-b9f6-3e5ed9afd0c3",
   "metadata": {},
   "outputs": [],
   "source": [
    "# adding numbers \n",
    "def func(*args):\n",
    "    sum=0\n",
    "    for x in args:\n",
    "        sum+=x\n",
    "    return sum\n",
    "\n",
    "func(2,3,4,5)\n",
    "func(2,3,45,9)\n",
    "func(2,3,45,9,10)"
   ]
  },
  {
   "cell_type": "code",
   "execution_count": null,
   "id": "758c8ef4-c383-4496-9465-a2cfe5748887",
   "metadata": {},
   "outputs": [],
   "source": [
    "def func(**kwargs):\n",
    "    sum=0\n",
    "    for x,y in kwargs.items():\n",
    "        print(f\"{x} is {y}\")\n",
    "    \n",
    "\n",
    "func(firstname =\"anmol\",Lastname=\"Taneja\")\n",
    "func(firstname =\"anmol\",Lastname=\"Taneja\",age=21,college=\"PIET\")"
   ]
  },
  {
   "cell_type": "code",
   "execution_count": null,
   "id": "079df1ed-d6a5-4529-8720-51cfe5c197b8",
   "metadata": {},
   "outputs": [],
   "source": []
  },
  {
   "cell_type": "markdown",
   "id": "97a75a76-0d6a-4b17-a132-364d080a7a80",
   "metadata": {},
   "source": [
    "Q3"
   ]
  },
  {
   "cell_type": "markdown",
   "id": "e5e6b619-29b4-4f60-9704-0929aea12a37",
   "metadata": {},
   "source": [
    "Iterator in python is an object  that contains a definite number of values which can be iterated upon i.e we can traverse through all the values.\n",
    "\n",
    "List ,tuples,string etc. are iterable objects\n",
    "\n",
    "iter() - used to initialse the iterator object\n",
    "\n",
    "next() - use to iterate over the object"
   ]
  },
  {
   "cell_type": "code",
   "execution_count": null,
   "id": "829ceec9-5f1e-4eab-92cc-b7a2bf9d3ecd",
   "metadata": {},
   "outputs": [],
   "source": [
    "list = [2,4,6,8,10,12,14,16,18,20]\n",
    "it= iter(list)\n",
    "for x in range(5):\n",
    "    \n",
    "  print(next(it))"
   ]
  },
  {
   "cell_type": "code",
   "execution_count": null,
   "id": "012fbca2-fd24-4d79-a06c-204ad4eabb22",
   "metadata": {},
   "outputs": [],
   "source": []
  },
  {
   "cell_type": "markdown",
   "id": "c5332a35-eb25-4725-9223-824d5a506298",
   "metadata": {},
   "source": [
    "Q4"
   ]
  },
  {
   "cell_type": "markdown",
   "id": "70fa7138-650e-4011-85dd-cf336313d4ab",
   "metadata": {},
   "source": [
    "Generator function unlike normal function does not return or produce values instead it creates an object that can be iterated over to produce values.\n",
    "Yield keyword is used to generate values, like we use return in normal functions.\n",
    "example-"
   ]
  },
  {
   "cell_type": "code",
   "execution_count": null,
   "id": "88760030-830c-48ee-b57a-932352a455f2",
   "metadata": {},
   "outputs": [],
   "source": [
    "#to generate natural numbers\n",
    "def natural():\n",
    "    i=1\n",
    "    while True:\n",
    "        yield i\n",
    "        i+=1\n",
    "\n",
    "#using generator object to produce first 10 natural numbers\n",
    "num= natural()      #making genrator object\n",
    "#now iterating over it using loop\n",
    "for i in range(10):\n",
    "    print(next(num))"
   ]
  },
  {
   "cell_type": "code",
   "execution_count": null,
   "id": "3d1a7684-57a9-4fa6-8b2c-9542fccdd7f8",
   "metadata": {},
   "outputs": [],
   "source": []
  },
  {
   "cell_type": "markdown",
   "id": "dd2303d9-3228-4b55-a487-73f66963477d",
   "metadata": {},
   "source": [
    "##### Q5"
   ]
  },
  {
   "cell_type": "code",
   "execution_count": null,
   "id": "dde67dfd-15a9-491b-94d8-1e56e28cea54",
   "metadata": {},
   "outputs": [],
   "source": [
    "def prime():                 #prime() is generator function\n",
    "    \n",
    "    for i in range(2,1000):\n",
    "        flag=0\n",
    "        if i==2 or i==3:\n",
    "            yield i\n",
    "            continue\n",
    "        for j in range(2,int(i/2)+1):\n",
    "            if i%j==0:\n",
    "                flag=1\n",
    "                break\n",
    "        if flag==0:\n",
    "            yield i\n",
    "\n",
    "prime_num = prime()        #prime_num is a generator"
   ]
  },
  {
   "cell_type": "code",
   "execution_count": null,
   "id": "abac15b0-04df-4f6e-9872-feeb111a266a",
   "metadata": {},
   "outputs": [],
   "source": [
    "for i in range(20):\n",
    "    print(next(prime_num))"
   ]
  },
  {
   "cell_type": "code",
   "execution_count": null,
   "id": "2ba62352-9cb0-473c-9980-cd175345c2d2",
   "metadata": {},
   "outputs": [],
   "source": []
  },
  {
   "cell_type": "markdown",
   "id": "d76faf44-2f5d-41eb-ba6d-417e751b5bee",
   "metadata": {},
   "source": [
    "Q6"
   ]
  },
  {
   "cell_type": "code",
   "execution_count": null,
   "id": "c20de7cd-65eb-4c31-852b-addacaf552e5",
   "metadata": {},
   "outputs": [],
   "source": [
    "a,b=0,1\n",
    "count=1\n",
    "while count<=10:\n",
    "    print(a)\n",
    "    c=a+b\n",
    "    a=b\n",
    "    b=c\n",
    "    count+=1\n",
    "#it's done\n",
    "    "
   ]
  },
  {
   "cell_type": "code",
   "execution_count": null,
   "id": "a9d7e2c9-374c-48ea-9597-332280db6bd6",
   "metadata": {},
   "outputs": [],
   "source": []
  },
  {
   "cell_type": "markdown",
   "id": "552977e0-77ce-4e31-bcc4-0bd87dcab7b9",
   "metadata": {},
   "source": [
    "Q7"
   ]
  },
  {
   "cell_type": "code",
   "execution_count": null,
   "id": "3fdd4933-adf9-4ae4-9677-7cc2a15fa6b4",
   "metadata": {},
   "outputs": [],
   "source": [
    "string='pwskills'\n",
    "ls=[i for i in string]\n",
    "ls"
   ]
  },
  {
   "cell_type": "code",
   "execution_count": null,
   "id": "afaf02c4-0bee-4914-95a8-3eb35121db48",
   "metadata": {},
   "outputs": [],
   "source": []
  },
  {
   "cell_type": "markdown",
   "id": "fedb6eca-15c7-4290-bc44-6f00b5492e5c",
   "metadata": {},
   "source": [
    "Q8"
   ]
  },
  {
   "cell_type": "code",
   "execution_count": null,
   "id": "0aafa392-218a-4bc2-83a9-5f6cd31f4ad4",
   "metadata": {},
   "outputs": [],
   "source": [
    "num= 12233221\n",
    "num_copy=num     # used to store value of num and to compare later on\n",
    "rev_num=0        # rev_num will store the reverse of num\n",
    "\n",
    "while int(num)>0:\n",
    "    rem=int(num%10)\n",
    "    rev_num = rev_num*10 + rem\n",
    "    num=int(num/10)\n",
    "\n",
    "#now compare the numbers\n",
    "if rev_num==num_copy:\n",
    "    print(\"Given number is Palindrome\")\n",
    "else:\n",
    "    print(\"Given number is not Palindrome\")"
   ]
  },
  {
   "cell_type": "code",
   "execution_count": null,
   "id": "f57b6bd8-2fec-4b72-a0a2-a4e883e80b27",
   "metadata": {},
   "outputs": [],
   "source": []
  },
  {
   "cell_type": "markdown",
   "id": "3dd0e61a-024a-4164-a06c-1119b4b1155a",
   "metadata": {},
   "source": [
    "Q9"
   ]
  },
  {
   "cell_type": "code",
   "execution_count": null,
   "id": "1a722b93-3529-433f-be42-ab7444c0b2ba",
   "metadata": {},
   "outputs": [],
   "source": [
    "ls=[i for i in range(1,101) ]"
   ]
  },
  {
   "cell_type": "code",
   "execution_count": null,
   "id": "b9703de4-c75e-4e96-b8cf-14d81da26760",
   "metadata": {},
   "outputs": [],
   "source": [
    "odd_list= [i for i in ls if i%2!=0]"
   ]
  },
  {
   "cell_type": "code",
   "execution_count": null,
   "id": "fdd6c3d2-edd7-4fb8-8fc7-49e3b84123b8",
   "metadata": {},
   "outputs": [],
   "source": [
    "print(odd_list)"
   ]
  },
  {
   "cell_type": "code",
   "execution_count": null,
   "id": "b0357f62-c2de-4dc2-a68d-dc626d48b823",
   "metadata": {},
   "outputs": [],
   "source": []
  }
 ],
 "metadata": {
  "kernelspec": {
   "display_name": "Python 3 (ipykernel)",
   "language": "python",
   "name": "python3"
  },
  "language_info": {
   "codemirror_mode": {
    "name": "ipython",
    "version": 3
   },
   "file_extension": ".py",
   "mimetype": "text/x-python",
   "name": "python",
   "nbconvert_exporter": "python",
   "pygments_lexer": "ipython3",
   "version": "3.10.8"
  }
 },
 "nbformat": 4,
 "nbformat_minor": 5
}
