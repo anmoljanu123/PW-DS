{
 "cells": [
  {
   "cell_type": "markdown",
   "id": "64e4b483-f554-4453-9c94-cd424593e626",
   "metadata": {},
   "source": [
    "Q1"
   ]
  },
  {
   "cell_type": "code",
   "execution_count": 7,
   "id": "9f3e8e2f-b9d0-474f-832d-7ea6722c969f",
   "metadata": {},
   "outputs": [],
   "source": [
    "def valid_pass(passw):\n",
    "    upper,lower,num,sp_ch=0,0,0,0\n",
    "    for i in passw:\n",
    "        if ord(i) in range(65,91):\n",
    "            upper+=1\n",
    "        elif ord(i) in range(97,123):\n",
    "            lower+=1    \n",
    "        elif ord(i) in range(48,58):\n",
    "            num+=1\n",
    "        else:\n",
    "            sp_ch+=1\n",
    "    if len(passw)==10 and upper>=2 and lower>=2 and num>=1 and sp_ch==3:\n",
    "        return \"Valid Password\"\n",
    "    else:\n",
    "        return \"Invalid Password\"\n"
   ]
  },
  {
   "cell_type": "code",
   "execution_count": 9,
   "id": "447c1bdf-8ac4-49aa-bf25-71336d10c15b",
   "metadata": {},
   "outputs": [
    {
     "name": "stdin",
     "output_type": "stream",
     "text": [
      "Enter password ghjAT12#%$\n"
     ]
    },
    {
     "data": {
      "text/plain": [
       "'Valid Password'"
      ]
     },
     "execution_count": 9,
     "metadata": {},
     "output_type": "execute_result"
    }
   ],
   "source": [
    "password= str(input(\"Enter password\"))\n",
    "\n",
    "valid_pass(password)"
   ]
  },
  {
   "cell_type": "code",
   "execution_count": null,
   "id": "bba5652d-8e23-4165-9495-dc26852a3e82",
   "metadata": {},
   "outputs": [],
   "source": []
  },
  {
   "cell_type": "markdown",
   "id": "a143259e-90ba-47bb-871a-f026d6ca57af",
   "metadata": {},
   "source": [
    "Q2"
   ]
  },
  {
   "cell_type": "code",
   "execution_count": 61,
   "id": "48fdbb92-c52d-4c88-b960-9903f44bb286",
   "metadata": {},
   "outputs": [
    {
     "data": {
      "text/plain": [
       "'no, it does not start with given letter'"
      ]
     },
     "execution_count": 61,
     "metadata": {},
     "output_type": "execute_result"
    }
   ],
   "source": [
    "# Check if the string starts with a particular letter\n",
    "\n",
    "s= 'hello how are you?'\n",
    "\n",
    "ans=lambda s: 'yes, it starts with given letter' if s.startswith('l') else 'no, it does not start with given letter'\n",
    "ans(s)"
   ]
  },
  {
   "cell_type": "code",
   "execution_count": 60,
   "id": "69c3ce06-1000-4b09-8815-0d119f1f9881",
   "metadata": {},
   "outputs": [
    {
     "data": {
      "text/plain": [
       "'no it is not numeric'"
      ]
     },
     "execution_count": 60,
     "metadata": {},
     "output_type": "execute_result"
    }
   ],
   "source": [
    "# Check if the string is numeric\n",
    "\n",
    "s= '.2333'\n",
    "\n",
    "chk_num= lambda s: 'yes, it is numeric' if s.isnumeric() else 'no it is not numeric'\n",
    "chk_num(s)"
   ]
  },
  {
   "cell_type": "code",
   "execution_count": 55,
   "id": "43b94d9a-f00a-466f-898a-a6950444097e",
   "metadata": {},
   "outputs": [
    {
     "data": {
      "text/plain": [
       "[('orange', 80), ('mango', 99), ('grapes', 1000)]"
      ]
     },
     "execution_count": 55,
     "metadata": {},
     "output_type": "execute_result"
    }
   ],
   "source": [
    "# Sort a list of tuples having fruit names and their quantity. \n",
    "ls= [(\"mango\",99),(\"orange\",80), (\"grapes\", 1000)]\n",
    "\n",
    "sort_ls = sorted(ls, key= lambda x:x[1] )\n",
    "sort_ls"
   ]
  },
  {
   "cell_type": "code",
   "execution_count": 56,
   "id": "47899f3d-923e-460b-b029-e1c5bb5fe75d",
   "metadata": {},
   "outputs": [
    {
     "data": {
      "text/plain": [
       "[1, 4, 9, 16, 25, 36, 49, 64, 81, 100]"
      ]
     },
     "execution_count": 56,
     "metadata": {},
     "output_type": "execute_result"
    }
   ],
   "source": [
    "# Find the squares of numbers from 1 to 10\n",
    "\n",
    "l1=[1,2,3,4,5,6,7,8,9,10]\n",
    "\n",
    "squares= list(map(lambda i: i*i,l1))\n",
    "squares"
   ]
  },
  {
   "cell_type": "code",
   "execution_count": 57,
   "id": "5b8a4f7d-213b-401b-820d-c27714f17394",
   "metadata": {},
   "outputs": [
    {
     "data": {
      "text/plain": [
       "[1.0,\n",
       " 1.2599210498948732,\n",
       " 1.4422495703074083,\n",
       " 1.5874010519681994,\n",
       " 1.7099759466766968,\n",
       " 1.8171205928321397,\n",
       " 1.912931182772389,\n",
       " 2.0,\n",
       " 2.080083823051904,\n",
       " 2.154434690031884]"
      ]
     },
     "execution_count": 57,
     "metadata": {},
     "output_type": "execute_result"
    }
   ],
   "source": [
    "# Find the cube root of numbers from 1 to 10\n",
    "\n",
    "l1=[1,2,3,4,5,6,7,8,9,10]\n",
    "\n",
    "cube_root= list(map(lambda i: i**(1/3),l1))\n",
    "cube_root"
   ]
  },
  {
   "cell_type": "code",
   "execution_count": 59,
   "id": "50d2d1f3-d5a9-48c1-8bcf-0f43a541f1a1",
   "metadata": {},
   "outputs": [
    {
     "data": {
      "text/plain": [
       "[\"yes it's even\"]"
      ]
     },
     "execution_count": 59,
     "metadata": {},
     "output_type": "execute_result"
    }
   ],
   "source": [
    "# Check if a given number is even\n",
    "a=8\n",
    "[\"yes it's even\" if a%2==0 else \"no, it's odd\" ]"
   ]
  },
  {
   "cell_type": "code",
   "execution_count": 63,
   "id": "dcb9c02c-1e6f-4c3f-a74c-8f2812d0061f",
   "metadata": {},
   "outputs": [
    {
     "data": {
      "text/plain": [
       "[1, 3, 5, 7, 9]"
      ]
     },
     "execution_count": 63,
     "metadata": {},
     "output_type": "execute_result"
    }
   ],
   "source": [
    "# Filter odd numbers from the given list.\n",
    "l2= [1,2,3,4,5,6,7,8,9,10]\n",
    "\n",
    "odd_num= list(filter(lambda i: i%2!=0,l2))\n",
    "odd_num"
   ]
  },
  {
   "cell_type": "code",
   "execution_count": 1,
   "id": "1f70b0c4-cc0a-4f50-8c0c-265d9f9ec5c3",
   "metadata": {},
   "outputs": [
    {
     "data": {
      "text/plain": [
       "[-5, -4, -3, -2, -1, 0, 1, 2, 3, 4, 5, 6]"
      ]
     },
     "execution_count": 1,
     "metadata": {},
     "output_type": "execute_result"
    }
   ],
   "source": [
    "# Sort a list of integers into positive and negative integers lists.\n",
    "l3= [1,2,3,4,5,6,-1,-2,-3,-4,-5,0]\n",
    "\n",
    "sort_l3= sorted(l3, key= lambda i: i)\n",
    "sort_l3\n"
   ]
  },
  {
   "cell_type": "code",
   "execution_count": null,
   "id": "0e993f91-7833-443c-8dd6-965ed54ec2e9",
   "metadata": {},
   "outputs": [],
   "source": []
  }
 ],
 "metadata": {
  "kernelspec": {
   "display_name": "Python 3 (ipykernel)",
   "language": "python",
   "name": "python3"
  },
  "language_info": {
   "codemirror_mode": {
    "name": "ipython",
    "version": 3
   },
   "file_extension": ".py",
   "mimetype": "text/x-python",
   "name": "python",
   "nbconvert_exporter": "python",
   "pygments_lexer": "ipython3",
   "version": "3.10.8"
  }
 },
 "nbformat": 4,
 "nbformat_minor": 5
}
