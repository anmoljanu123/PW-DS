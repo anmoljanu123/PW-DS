{
 "cells": [
  {
   "cell_type": "markdown",
   "id": "7141329b-2e6f-4871-ad20-ad7254af32fc",
   "metadata": {},
   "source": [
    "Q1"
   ]
  },
  {
   "cell_type": "code",
   "execution_count": null,
   "id": "2d3f8d61-743d-4618-a6b3-f05abfce627b",
   "metadata": {},
   "outputs": [],
   "source": [
    "class vehicle:\n",
    "    def __init__(self,name,mspeed,avg):\n",
    "        self.__name_of_vehicle=name\n",
    "        self.__max_speed= mspeed\n",
    "        self.__average_of_vehicle=avg\n",
    "        "
   ]
  },
  {
   "cell_type": "code",
   "execution_count": null,
   "id": "3eee93d2-e738-48ec-a004-8d38ec381da8",
   "metadata": {},
   "outputs": [],
   "source": []
  },
  {
   "cell_type": "markdown",
   "id": "aa60df50-35b0-4df2-8e4f-f8849de2ea00",
   "metadata": {},
   "source": [
    "Q2"
   ]
  },
  {
   "cell_type": "code",
   "execution_count": null,
   "id": "ac8b3721-4ba2-402e-bc8d-40b4a32cf975",
   "metadata": {},
   "outputs": [],
   "source": [
    "class car(vehicle):\n",
    "    def seating_capacity(self,capacity):\n",
    "        self.__capacity= capacity\n",
    "        return self.__name_of_vehicle,self.__capacity"
   ]
  },
  {
   "cell_type": "code",
   "execution_count": null,
   "id": "5a21a578-88c5-4388-b7eb-7894b8277ed1",
   "metadata": {},
   "outputs": [],
   "source": []
  },
  {
   "cell_type": "markdown",
   "id": "43e937d8-20b5-4c95-8de3-50f1dfa71986",
   "metadata": {},
   "source": [
    "Q3"
   ]
  },
  {
   "cell_type": "markdown",
   "id": "160ff980-32a9-40c6-8a49-78155c8f35b1",
   "metadata": {},
   "source": [
    "Multiple inheritance is a type of inheritance in which a class inherits methods from multiple classes.\n",
    "For ex- A class named child inherits from two classes named father and mother."
   ]
  },
  {
   "cell_type": "code",
   "execution_count": null,
   "id": "d5fb6fd8-a16f-4e30-a758-804d2f66de6f",
   "metadata": {},
   "outputs": [],
   "source": [
    "class father:\n",
    "    def func1(self):\n",
    "        return \"this is father\"\n",
    "    "
   ]
  },
  {
   "cell_type": "code",
   "execution_count": null,
   "id": "8dfabe29-aeec-4a76-9470-f8aea18bb4e0",
   "metadata": {},
   "outputs": [],
   "source": [
    "class mother:\n",
    "    def func2(self):\n",
    "        return \"this is mother\"\n",
    "    "
   ]
  },
  {
   "cell_type": "code",
   "execution_count": null,
   "id": "86fd79a7-21e2-4e25-8fad-3bd0a23d9129",
   "metadata": {},
   "outputs": [],
   "source": [
    "class child(father,mother):\n",
    "    pass\n",
    "\n",
    "obj_child=child()\n",
    "obj_child.func1()\n"
   ]
  },
  {
   "cell_type": "code",
   "execution_count": null,
   "id": "3e16bcc9-21dc-49c6-83f3-b47c919e1583",
   "metadata": {},
   "outputs": [],
   "source": [
    "obj_child.func2()"
   ]
  },
  {
   "cell_type": "code",
   "execution_count": null,
   "id": "fca12bb5-7c94-4c05-a5da-97537a2be6f9",
   "metadata": {},
   "outputs": [],
   "source": []
  },
  {
   "cell_type": "markdown",
   "id": "5a7b2f67-faae-43af-b52b-b4623c3cfd15",
   "metadata": {},
   "source": [
    "Q4"
   ]
  },
  {
   "cell_type": "markdown",
   "id": "eb015b03-ce1c-47db-81b5-3d46157d1b58",
   "metadata": {},
   "source": [
    "getter function is used to access the instance variables indirectly.\n",
    "setter method is used to write the value the instance varables indirectly i.e without accessing variables directly.\n",
    "\n",
    "They both methods are declared inside the class, hence they are internal methods."
   ]
  },
  {
   "cell_type": "code",
   "execution_count": null,
   "id": "16306e46-d454-4499-914c-7c7c3039924a",
   "metadata": {},
   "outputs": [],
   "source": [
    "class student:\n",
    "    def __init__(self,name,roll_num):\n",
    "        self.__student_name= name\n",
    "        self.__roll_no= roll_num\n",
    "        \n",
    "        #writing methods to access class variables indrectly\n",
    "        \n",
    "    def set_roll(self,roll_num):           #setter function\n",
    "        self.__roll_no=roll_num\n",
    "        \n",
    "    def get_roll(self):                     #getter function\n",
    "        return self.__roll_no"
   ]
  },
  {
   "cell_type": "code",
   "execution_count": null,
   "id": "343f3ccd-a136-4075-a4e0-3b954b8f91d5",
   "metadata": {},
   "outputs": [],
   "source": []
  },
  {
   "cell_type": "markdown",
   "id": "786fa653-0560-4415-94e0-f70de97719a8",
   "metadata": {},
   "source": [
    "Q5"
   ]
  },
  {
   "cell_type": "markdown",
   "id": "30ad589e-5358-4e31-8261-a8043dee8cda",
   "metadata": {},
   "source": [
    "Method overriding is a feature of Oops in which child class  provide specific implemnetation of data provided that is already present or defined in parent class.\n",
    "\n",
    "In the below example, car has some features, but it's child class has some enhanced features."
   ]
  },
  {
   "cell_type": "code",
   "execution_count": null,
   "id": "0f6c6b5f-02ec-4dba-98bc-e72798b1fb10",
   "metadata": {},
   "outputs": [],
   "source": [
    "class car:\n",
    "    def features(self):\n",
    "        print(\"car has a staring with cluth and brake.\")\n",
    "        "
   ]
  },
  {
   "cell_type": "code",
   "execution_count": null,
   "id": "23108291-7a1d-46e2-8bd1-f36462614f0d",
   "metadata": {},
   "outputs": [],
   "source": [
    "class Tesla:\n",
    "    def features(self):\n",
    "        print(\"Tesla is a car with automatic driving feature.\")"
   ]
  },
  {
   "cell_type": "code",
   "execution_count": null,
   "id": "8df05df0-8a16-4724-bc79-ab23a1a7284c",
   "metadata": {},
   "outputs": [],
   "source": [
    "obj_tesla= Tesla()"
   ]
  },
  {
   "cell_type": "code",
   "execution_count": null,
   "id": "4e25b25f-12a4-4958-884f-90e1c7cd94ee",
   "metadata": {},
   "outputs": [],
   "source": [
    "obj_tesla.features()"
   ]
  },
  {
   "cell_type": "code",
   "execution_count": null,
   "id": "ff4b317e-4463-458d-b9ec-876c51b0749b",
   "metadata": {},
   "outputs": [],
   "source": []
  }
 ],
 "metadata": {
  "kernelspec": {
   "display_name": "Python 3 (ipykernel)",
   "language": "python",
   "name": "python3"
  },
  "language_info": {
   "codemirror_mode": {
    "name": "ipython",
    "version": 3
   },
   "file_extension": ".py",
   "mimetype": "text/x-python",
   "name": "python",
   "nbconvert_exporter": "python",
   "pygments_lexer": "ipython3",
   "version": "3.10.8"
  }
 },
 "nbformat": 4,
 "nbformat_minor": 5
}
