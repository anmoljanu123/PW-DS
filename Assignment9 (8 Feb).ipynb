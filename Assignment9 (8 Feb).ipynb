{
 "cells": [
  {
   "cell_type": "markdown",
   "id": "997c8580-0b1c-4ab7-a04f-801d702bc8f0",
   "metadata": {},
   "source": [
    "Q1"
   ]
  },
  {
   "cell_type": "markdown",
   "id": "5dfdaa06-dd15-47bb-ab0b-dcba8ff0787d",
   "metadata": {},
   "source": [
    "Abstraction is one of the 4 pillar of Oops. It is used to hide the implementation of the methods\n",
    "and showing only the important features or functionalities.\n",
    "\n",
    "It is used to make the programming easy and enables the user to access the application without any difficulty.\n",
    "\n",
    "example-\n",
    "when a person starts a car he/she only knows about what the function of stairing, clutch, brake,gearsetc.  but he doesnot know about how they work internally.\n",
    "\n",
    "So abstraction only answers 'WHAT'(what are the functions) and hide 'HOW'(implementation)."
   ]
  },
  {
   "cell_type": "code",
   "execution_count": null,
   "id": "a051395f-12dc-48b7-960a-085a9c237da7",
   "metadata": {},
   "outputs": [],
   "source": []
  },
  {
   "cell_type": "markdown",
   "id": "239c37d0-14ac-4645-8f7a-2c226c8596ee",
   "metadata": {},
   "source": [
    "Q2"
   ]
  },
  {
   "cell_type": "markdown",
   "id": "908bb443-62b4-4791-9238-ee29e783586d",
   "metadata": {},
   "source": [
    "Abstraction focuses on showing only the functions to the user while encapsulation focuses on binding data and methods into single secure unit. \n",
    "\n",
    "Abstraction also solves the design level problem of the program while enacapsulation solves the implementation(of details) level problem of the program.\n",
    "\n",
    "for example-\n",
    "\n",
    "abstraction-   outer look of a mobile , it has various features like display screen, keypad to dial numbers etc.\n",
    "enacapsulation- inner structure of a mobile, it describes how the different parts like dsiplay and keypad, speaker are connected to each other.\n"
   ]
  },
  {
   "cell_type": "code",
   "execution_count": null,
   "id": "23a32f5f-89e0-41dc-a55b-d92f35aa5671",
   "metadata": {},
   "outputs": [],
   "source": []
  },
  {
   "cell_type": "markdown",
   "id": "2f597d3c-a0c4-46b4-a6de-6e99b48a1deb",
   "metadata": {},
   "source": [
    "Q3"
   ]
  },
  {
   "cell_type": "markdown",
   "id": "25e8c31a-e119-4714-8068-94e757367148",
   "metadata": {},
   "source": [
    "abc module in python is used to provide all necessarry tools and functions that are used to define abstract base classes \n",
    "(ABC).\n",
    "So why we use abc module in python...\n",
    "The reason behind that is python does not provides abstract class itself unlike other Oops languages so that's why  we need to import abc module in python to use abstract classes."
   ]
  },
  {
   "cell_type": "code",
   "execution_count": null,
   "id": "81249ffa-3155-45dd-a1ff-a20e99555f3d",
   "metadata": {},
   "outputs": [],
   "source": []
  },
  {
   "cell_type": "markdown",
   "id": "4d439f6b-202e-4f65-91c6-5fe4a8de3c91",
   "metadata": {},
   "source": [
    "Q4"
   ]
  },
  {
   "cell_type": "markdown",
   "id": "9b4b63b2-5af2-49dc-b5e8-74d6ac7c4032",
   "metadata": {},
   "source": [
    "We can achieve data abstraction by creating abstract class.\n",
    "It is an interface that inherits all data and methods from the base class by extending it.\n",
    "It acts like a template for other classes that defines a list of all methods that the classes must implement."
   ]
  },
  {
   "cell_type": "code",
   "execution_count": null,
   "id": "e9dbd08c-c612-42a4-8db0-26eb4147dce9",
   "metadata": {},
   "outputs": [],
   "source": []
  },
  {
   "cell_type": "markdown",
   "id": "13518fd8-98c4-4243-946d-33bff14dfefb",
   "metadata": {},
   "source": [
    "Q5"
   ]
  },
  {
   "cell_type": "markdown",
   "id": "2ed89f3e-aef3-43e9-a333-ac6cf8c0af29",
   "metadata": {},
   "source": [
    "No, we cannot create the instance of the abstract class because it is only meant to be inherited from it's subclasses.\n",
    "Abstract classes are just a template that instructs the subclasses to use it and do the specific implementation.\n",
    "\n",
    "example-"
   ]
  },
  {
   "cell_type": "code",
   "execution_count": 21,
   "id": "2710e98c-b107-4ca8-b3ab-6cafbb6a3d80",
   "metadata": {},
   "outputs": [],
   "source": [
    "from abc import ABC, abstractmethod\n",
    "\n",
    "class animal(ABC):\n",
    "\n",
    "  @abstractmethod\n",
    "  def sound(self):               #supposed to have different implementation in child classes \n",
    "    pass\n",
    "\n",
    "class dog(animal):\n",
    "  def sound(self):\n",
    "    print('bhau..bhau')\n",
    "\n",
    "class pony(animal):\n",
    "  def sound(self):\n",
    "    print('dhenchu..dhenchu')"
   ]
  },
  {
   "cell_type": "code",
   "execution_count": 22,
   "id": "2348d917-5621-4c6f-b12a-70e69d2ea77b",
   "metadata": {},
   "outputs": [],
   "source": [
    "obj_animal= dog()\n"
   ]
  },
  {
   "cell_type": "code",
   "execution_count": 23,
   "id": "53428913-7205-48a0-8b50-058a9b15bd7b",
   "metadata": {},
   "outputs": [
    {
     "name": "stdout",
     "output_type": "stream",
     "text": [
      "bhau..bhau\n"
     ]
    }
   ],
   "source": [
    "obj_animal.sound()"
   ]
  },
  {
   "cell_type": "code",
   "execution_count": 24,
   "id": "3a4e3597-25b1-4c3a-bbca-b5ab400986a8",
   "metadata": {},
   "outputs": [
    {
     "ename": "TypeError",
     "evalue": "Can't instantiate abstract class animal with abstract method sound",
     "output_type": "error",
     "traceback": [
      "\u001b[0;31m---------------------------------------------------------------------------\u001b[0m",
      "\u001b[0;31mTypeError\u001b[0m                                 Traceback (most recent call last)",
      "Cell \u001b[0;32mIn[24], line 1\u001b[0m\n\u001b[0;32m----> 1\u001b[0m obj_animal\u001b[38;5;241m=\u001b[39m \u001b[43manimal\u001b[49m\u001b[43m(\u001b[49m\u001b[43m)\u001b[49m\n",
      "\u001b[0;31mTypeError\u001b[0m: Can't instantiate abstract class animal with abstract method sound"
     ]
    }
   ],
   "source": [
    "obj_animal= animal()"
   ]
  },
  {
   "cell_type": "markdown",
   "id": "82ab3978-7629-4ced-a881-7fb157fe11a9",
   "metadata": {},
   "source": [
    "Here we got the error because we created the object of abstract class .\n",
    "\n",
    "We can not create object of abstarct class because it is just a template to other classes.\n",
    "\n",
    "like animal is just type , animal can make sound but which animal, it needs to be defined ,so that is done by creating another subclass of animal like dog, pony ."
   ]
  },
  {
   "cell_type": "code",
   "execution_count": null,
   "id": "f836c96c-0f0c-41ba-b0d2-31ce43b568f2",
   "metadata": {},
   "outputs": [],
   "source": []
  }
 ],
 "metadata": {
  "kernelspec": {
   "display_name": "Python 3 (ipykernel)",
   "language": "python",
   "name": "python3"
  },
  "language_info": {
   "codemirror_mode": {
    "name": "ipython",
    "version": 3
   },
   "file_extension": ".py",
   "mimetype": "text/x-python",
   "name": "python",
   "nbconvert_exporter": "python",
   "pygments_lexer": "ipython3",
   "version": "3.10.8"
  }
 },
 "nbformat": 4,
 "nbformat_minor": 5
}
