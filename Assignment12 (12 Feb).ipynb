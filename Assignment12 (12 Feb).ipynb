{
 "cells": [
  {
   "cell_type": "markdown",
   "id": "d476002d-31a0-4129-b7a3-af61cd231c79",
   "metadata": {},
   "source": [
    "Q1"
   ]
  },
  {
   "cell_type": "markdown",
   "id": "231bd074-e70b-4c87-b590-3e47e0f2c208",
   "metadata": {},
   "source": [
    "Exception can be defined as an event that occurs during the execution of the program.\n",
    "These are bascially errors that occur during runtime. \n",
    "\n",
    "The major difference between the exception and syntax error is that syntax error is a mistake in writing python language like grammar mistakes in english language while exception is a logical error i.e that are practically not possible."
   ]
  },
  {
   "cell_type": "code",
   "execution_count": 5,
   "id": "8333865f-c922-4231-8d46-d7a05628ddbb",
   "metadata": {},
   "outputs": [
    {
     "ename": "SyntaxError",
     "evalue": "invalid syntax (3810582474.py, line 2)",
     "output_type": "error",
     "traceback": [
      "\u001b[0;36m  Cell \u001b[0;32mIn[5], line 2\u001b[0;36m\u001b[0m\n\u001b[0;31m    a 4           # we do not use = sign to initialize a\u001b[0m\n\u001b[0m      ^\u001b[0m\n\u001b[0;31mSyntaxError\u001b[0m\u001b[0;31m:\u001b[0m invalid syntax\n"
     ]
    }
   ],
   "source": [
    "#synatx error\n",
    "a 4           # we do not use = sign to initialize a"
   ]
  },
  {
   "cell_type": "code",
   "execution_count": 6,
   "id": "88fb5e87-1a4a-4256-8d3d-3d06ef2be7df",
   "metadata": {},
   "outputs": [
    {
     "ename": "ImportError",
     "evalue": "cannot import name 'map' from 'functools' (/opt/conda/lib/python3.10/functools.py)",
     "output_type": "error",
     "traceback": [
      "\u001b[0;31m---------------------------------------------------------------------------\u001b[0m",
      "\u001b[0;31mImportError\u001b[0m                               Traceback (most recent call last)",
      "Cell \u001b[0;32mIn[6], line 2\u001b[0m\n\u001b[1;32m      1\u001b[0m \u001b[38;5;66;03m#exception\u001b[39;00m\n\u001b[0;32m----> 2\u001b[0m \u001b[38;5;28;01mfrom\u001b[39;00m \u001b[38;5;21;01mfunctools\u001b[39;00m \u001b[38;5;28;01mimport\u001b[39;00m \u001b[38;5;28mmap\u001b[39m      \u001b[38;5;66;03m# we have functools module i python but does not contain map function , that's why it show imprt error\u001b[39;00m\n",
      "\u001b[0;31mImportError\u001b[0m: cannot import name 'map' from 'functools' (/opt/conda/lib/python3.10/functools.py)"
     ]
    }
   ],
   "source": [
    "#exception\n",
    "from functools import map      # we have functools module i python but does not contain map function , that's why it show imprt error"
   ]
  },
  {
   "cell_type": "code",
   "execution_count": null,
   "id": "3f593497-587b-457d-ad4d-8e41e5345f75",
   "metadata": {},
   "outputs": [],
   "source": []
  },
  {
   "cell_type": "markdown",
   "id": "2dab043e-a304-435c-be0c-f596a8b61ee7",
   "metadata": {},
   "source": [
    "Q2"
   ]
  },
  {
   "cell_type": "markdown",
   "id": "a8c47a15-8c08-4fdb-8cdc-a9e33d712998",
   "metadata": {},
   "source": [
    "When exception is not handled then then our program will show exception error and will ot execute further.\n",
    "for ex:"
   ]
  },
  {
   "cell_type": "code",
   "execution_count": 7,
   "id": "d1483539-121a-45ec-8728-c517e5b2dd2f",
   "metadata": {},
   "outputs": [
    {
     "ename": "ZeroDivisionError",
     "evalue": "division by zero",
     "output_type": "error",
     "traceback": [
      "\u001b[0;31m---------------------------------------------------------------------------\u001b[0m",
      "\u001b[0;31mZeroDivisionError\u001b[0m                         Traceback (most recent call last)",
      "Cell \u001b[0;32mIn[7], line 2\u001b[0m\n\u001b[1;32m      1\u001b[0m a\u001b[38;5;241m=\u001b[39m \u001b[38;5;241m10\u001b[39m\n\u001b[0;32m----> 2\u001b[0m \u001b[43ma\u001b[49m\u001b[38;5;241;43m/\u001b[39;49m\u001b[38;5;241;43m0\u001b[39;49m\n\u001b[1;32m      3\u001b[0m \u001b[38;5;28mprint\u001b[39m(\u001b[38;5;124m'\u001b[39m\u001b[38;5;124mIt will show exception\u001b[39m\u001b[38;5;124m'\u001b[39m)                  \u001b[38;5;66;03m# here print statement will not be executed because a/0 shows zerodivisionerror\u001b[39;00m\n",
      "\u001b[0;31mZeroDivisionError\u001b[0m: division by zero"
     ]
    }
   ],
   "source": [
    "a= 10\n",
    "a/0\n",
    "print('It will show exception')                  # here print statement will not be executed because a/0 shows zerodivisionerror\n"
   ]
  },
  {
   "cell_type": "code",
   "execution_count": null,
   "id": "2a63338b-bacc-45f2-bcef-0dedbe97f21a",
   "metadata": {},
   "outputs": [],
   "source": []
  },
  {
   "cell_type": "markdown",
   "id": "42f1e7c2-fa7c-42c9-a310-406fe7f198de",
   "metadata": {},
   "source": [
    "Q3"
   ]
  },
  {
   "cell_type": "markdown",
   "id": "b2f96bf3-4cd1-489f-ba9d-d048db72a1e2",
   "metadata": {},
   "source": [
    "try and except statements are used to handle exception.\n",
    "for ex:\n"
   ]
  },
  {
   "cell_type": "code",
   "execution_count": 9,
   "id": "3820879f-3180-4304-bfa9-ed2638aed0c4",
   "metadata": {},
   "outputs": [],
   "source": [
    "a=10\n",
    "import logging\n",
    "\n",
    "logging.basicConfig(filename='error.log', level= logging.ERROR)\n",
    "try:\n",
    "    a/0\n",
    "except ZeroDivisionError as e:\n",
    "    logging.error('handling error as {}'.format(e)) "
   ]
  },
  {
   "cell_type": "code",
   "execution_count": null,
   "id": "40642f0c-8c68-4ef2-b671-2c32e67bb3e8",
   "metadata": {},
   "outputs": [],
   "source": []
  },
  {
   "cell_type": "markdown",
   "id": "98405a78-0251-45ad-bbba-3b44cc506f78",
   "metadata": {},
   "source": [
    "Q4"
   ]
  },
  {
   "cell_type": "markdown",
   "id": "7ca1754b-2a54-4ada-8f74-0042f7fc6718",
   "metadata": {},
   "source": [
    "try -  It is used to catch the exceptions.\n",
    "else - This block will be executed if try executes successfully.\n",
    "\n",
    "finally - This block will be executed irrespective of whatever occurs in try and except,else block.\n",
    "\n",
    "raise- It is used to raise error , we can also define the type of error and give message to users.\n"
   ]
  },
  {
   "cell_type": "code",
   "execution_count": 21,
   "id": "0dfed14e-ba51-4fff-9b33-102351c0df35",
   "metadata": {},
   "outputs": [
    {
     "name": "stdout",
     "output_type": "stream",
     "text": [
      "Error:  division by zero\n",
      "finally- I will be executed anyway\n"
     ]
    }
   ],
   "source": [
    "try:\n",
    "    e=0\n",
    "    a/e\n",
    "    if e==0:\n",
    "        raise ZeroDivisionError()\n",
    "except Exception as e:\n",
    "     print('Error: ',e)\n",
    "else:\n",
    "    print('code executed suucessfully')\n",
    "    \n",
    "finally:\n",
    "    print('finally- I will be executed anyway')"
   ]
  },
  {
   "cell_type": "code",
   "execution_count": null,
   "id": "b43672cf-64b2-4ee6-aa85-05c22b7c1f0b",
   "metadata": {},
   "outputs": [],
   "source": []
  },
  {
   "cell_type": "markdown",
   "id": "8a884804-d281-4fd0-af81-d58842bbd9de",
   "metadata": {},
   "source": [
    "Q5"
   ]
  },
  {
   "cell_type": "markdown",
   "id": "fe3163e4-111d-4c28-8195-5501691ed98a",
   "metadata": {},
   "source": [
    "Custom exception is defined by creating a custom exception class that will inherit from builtin Exception class .\n",
    "We should use custom exceptions as it will increase the readability of the code and by this we can also inherit different attributes and properties from the Exception class.\n",
    "\n",
    "ex:"
   ]
  },
  {
   "cell_type": "code",
   "execution_count": null,
   "id": "c156e861-a294-4c3c-86df-4a5766eb24c4",
   "metadata": {},
   "outputs": [],
   "source": [
    "class Custom(Exception):\n",
    "    pass\n",
    "\n",
    "raise Custom(\"Example of Custom Exceptions in Python\")"
   ]
  },
  {
   "cell_type": "code",
   "execution_count": null,
   "id": "3812d1f0-4f3f-4d50-bb19-a1eab4a85ab4",
   "metadata": {},
   "outputs": [],
   "source": []
  },
  {
   "cell_type": "markdown",
   "id": "e66992a1-9e09-41b3-9338-2f729824382b",
   "metadata": {},
   "source": [
    "Q6"
   ]
  },
  {
   "cell_type": "code",
   "execution_count": 41,
   "id": "07e9280f-616b-41fe-8ddc-8ca93352765d",
   "metadata": {},
   "outputs": [],
   "source": [
    "class valid_operation(Exception):\n",
    "    pass"
   ]
  },
  {
   "cell_type": "code",
   "execution_count": 42,
   "id": "327eaa2d-396b-48e1-8dff-2b11d0d6ec9d",
   "metadata": {},
   "outputs": [],
   "source": [
    "def operation(den):\n",
    "    if den == 0:\n",
    "        raise validate_age('Operation is not valid')\n",
    "    else:\n",
    "        print('operation is valid')"
   ]
  },
  {
   "cell_type": "code",
   "execution_count": 45,
   "id": "b5b40be3-4d93-4b47-91cd-77997c6b8046",
   "metadata": {},
   "outputs": [
    {
     "name": "stdin",
     "output_type": "stream",
     "text": [
      "enter num 0\n"
     ]
    },
    {
     "name": "stdout",
     "output_type": "stream",
     "text": [
      "Operation is not valid\n"
     ]
    }
   ],
   "source": [
    "try:\n",
    "    den= int(input('enter num'))\n",
    "    \n",
    "    operation(den)\n",
    "    \n",
    "except validate_age as e:\n",
    "    print(e)\n",
    "else:\n",
    "    a=10/den\n",
    "    print(a)"
   ]
  },
  {
   "cell_type": "code",
   "execution_count": null,
   "id": "db828401-3257-49c4-9816-dd1623a304a0",
   "metadata": {},
   "outputs": [],
   "source": []
  }
 ],
 "metadata": {
  "kernelspec": {
   "display_name": "Python 3 (ipykernel)",
   "language": "python",
   "name": "python3"
  },
  "language_info": {
   "codemirror_mode": {
    "name": "ipython",
    "version": 3
   },
   "file_extension": ".py",
   "mimetype": "text/x-python",
   "name": "python",
   "nbconvert_exporter": "python",
   "pygments_lexer": "ipython3",
   "version": "3.10.8"
  }
 },
 "nbformat": 4,
 "nbformat_minor": 5
}
