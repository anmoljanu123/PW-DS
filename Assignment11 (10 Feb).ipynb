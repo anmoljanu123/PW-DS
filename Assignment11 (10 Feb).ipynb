{
 "cells": [
  {
   "cell_type": "markdown",
   "id": "1921d022-4fc2-4602-a9da-b7e9dd3744b8",
   "metadata": {},
   "source": [
    "Q1"
   ]
  },
  {
   "cell_type": "markdown",
   "id": "3626e0f9-b3dc-4f2e-b43c-ab073da339ad",
   "metadata": {},
   "source": [
    "file= open(filename, mode)\n",
    "\n",
    "We use open() function to open a file.\n",
    "\n",
    "There are many modes of opening a file as follows:\n",
    "\n",
    "1.  'r'    -   open for reading (default)\n",
    "2.  'w'    -   open for writing, truncating the file first\n",
    "3.  'x'    -   create a new file and open it for writing\n",
    "4.  'a'    -   open for writing, appending to the end of the file if it exists\n",
    "5.  'b'    -   binary mode\n",
    "6.  't'    -   text mode (default)\n",
    "7.  '+'    -   open a disk file for updating (reading and writing)\n",
    "8.  'U'    -   universal newline mode (deprecated)'r'\n",
    "\n"
   ]
  },
  {
   "cell_type": "code",
   "execution_count": null,
   "id": "75e55319-3da0-4996-a449-2438cc7c59c9",
   "metadata": {},
   "outputs": [],
   "source": []
  },
  {
   "cell_type": "markdown",
   "id": "99de5775-7087-4b5b-9ddb-4925fed1a998",
   "metadata": {},
   "source": [
    "Q2"
   ]
  },
  {
   "cell_type": "markdown",
   "id": "41dab681-aa98-4fb7-b949-b836aac19836",
   "metadata": {},
   "source": [
    "close() function is used to close the file after we are done with writing content or updating in the file.\n",
    "\n",
    "We need to close the file so as to make the efficient use of resources as closing it will return the resources to the operating system that can be used by another program."
   ]
  },
  {
   "cell_type": "code",
   "execution_count": null,
   "id": "4abf0e51-b935-4343-85ac-65d20d578b79",
   "metadata": {},
   "outputs": [],
   "source": []
  },
  {
   "cell_type": "markdown",
   "id": "689af1d6-52eb-45c4-927b-c4f876a5964a",
   "metadata": {},
   "source": [
    "Q3"
   ]
  },
  {
   "cell_type": "code",
   "execution_count": 3,
   "id": "dc2a3775-e933-452b-bae9-2c7b83343833",
   "metadata": {},
   "outputs": [],
   "source": [
    "f= open('test.txt','w')\n",
    "f.write('I want to become a Data Scientist')\n",
    "f.close()\n",
    "        \n",
    "\n",
    "        "
   ]
  },
  {
   "cell_type": "code",
   "execution_count": 5,
   "id": "e2ca15f9-e119-4248-b4e3-df0b4559a12c",
   "metadata": {},
   "outputs": [
    {
     "data": {
      "text/plain": [
       "'I want to become a Data Scientist'"
      ]
     },
     "execution_count": 5,
     "metadata": {},
     "output_type": "execute_result"
    }
   ],
   "source": [
    "f= open('test.txt','r')\n",
    "f.read()\n"
   ]
  },
  {
   "cell_type": "code",
   "execution_count": null,
   "id": "74af5251-b1a9-411f-a84f-1499d8141e3e",
   "metadata": {},
   "outputs": [],
   "source": []
  },
  {
   "cell_type": "markdown",
   "id": "6146e25a-f90b-42ac-bb2f-18d4eacc7bb9",
   "metadata": {},
   "source": [
    "Q4"
   ]
  },
  {
   "cell_type": "markdown",
   "id": "1a39497f-119b-44b1-b258-e6d5e453b800",
   "metadata": {},
   "source": [
    "f.read(n) - It is used to read at most n characters(if n is defined) from file stream f or it will read until it hit EOF.\n",
    "\n",
    "f.readline(n) - It will return the nextline of file with all text upto and including newline character . It returns n characters if line is longer than n else return line.\n",
    "\n",
    "f.readline(n) - this will return multiple strings with each string representing single line of file. it will return n characters if n is provided else it will return all strings. \n",
    "\n"
   ]
  },
  {
   "cell_type": "code",
   "execution_count": null,
   "id": "e6cc0c92-feaa-4ce3-ac63-ab605adc7709",
   "metadata": {},
   "outputs": [],
   "source": []
  },
  {
   "cell_type": "markdown",
   "id": "c9510fdc-32bc-44a8-a733-78763545f66b",
   "metadata": {},
   "source": [
    "Q5"
   ]
  },
  {
   "cell_type": "markdown",
   "id": "cad06b7a-5720-4d6b-9c4f-10368799f2e4",
   "metadata": {},
   "source": [
    "with statement is used with open() to make the user write less code and it also closes the file itself for the user.\n",
    "\n",
    "Major advantage of using it is that user don't need to worry about closing file and free the resources used.\n",
    "\n",
    "Even if there is exception inside the with block then it will first close the file before the exception is handled."
   ]
  },
  {
   "cell_type": "code",
   "execution_count": null,
   "id": "fda80fda-0ac7-4d92-ad3a-11c2dc77e799",
   "metadata": {},
   "outputs": [],
   "source": []
  },
  {
   "cell_type": "markdown",
   "id": "e783e681-8722-4f6a-bd17-cc442b8bac72",
   "metadata": {},
   "source": [
    "Q6"
   ]
  },
  {
   "cell_type": "markdown",
   "id": "b2b4cc55-c509-43a1-b880-2619187d74fb",
   "metadata": {},
   "source": [
    "1.   f.write() - It will write/append the given string to the file.\n",
    "2.   f.writelines() - It will write list of strings to the file "
   ]
  },
  {
   "cell_type": "code",
   "execution_count": 19,
   "id": "edad5914-a87e-4def-962a-acc13308aa11",
   "metadata": {},
   "outputs": [],
   "source": [
    "file= open('test1.txt','w')\n",
    "\n",
    "file.write('my name is anmol taneja\\n')\n",
    "\n",
    "file.writelines(['my name is anmol. ','I live in saharanpur. ','I study in PIET. ','I love to play cricket.'])\n",
    "f.close()\n"
   ]
  },
  {
   "cell_type": "code",
   "execution_count": null,
   "id": "a8f76d98-8c9f-4015-8e1b-b6eeb88c94c0",
   "metadata": {},
   "outputs": [],
   "source": []
  }
 ],
 "metadata": {
  "kernelspec": {
   "display_name": "Python 3 (ipykernel)",
   "language": "python",
   "name": "python3"
  },
  "language_info": {
   "codemirror_mode": {
    "name": "ipython",
    "version": 3
   },
   "file_extension": ".py",
   "mimetype": "text/x-python",
   "name": "python",
   "nbconvert_exporter": "python",
   "pygments_lexer": "ipython3",
   "version": "3.10.8"
  }
 },
 "nbformat": 4,
 "nbformat_minor": 5
}
