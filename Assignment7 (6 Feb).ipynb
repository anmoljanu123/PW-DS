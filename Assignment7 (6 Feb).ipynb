{
 "cells": [
  {
   "cell_type": "markdown",
   "id": "af6c084e-6fbc-4d64-a99d-c5d63453b6f2",
   "metadata": {},
   "source": [
    "Q1"
   ]
  },
  {
   "cell_type": "code",
   "execution_count": 35,
   "id": "61243c3a-2004-47d1-818a-8c933195e58c",
   "metadata": {},
   "outputs": [
    {
     "name": "stdout",
     "output_type": "stream",
     "text": [
      "flatlist:  [1, 2, 3, 4, 44, 55, 66, True, False, 34, 56, 78, 89, 34, 1, 2, 3, 1, 34, 'key2', 55, 67, 78, 89, 4, 45, 22, 61, 34, 56, 'data science', 'Machine Learning']\n",
      "Product:  4134711838987085478833841242112000\n"
     ]
    }
   ],
   "source": [
    "def product(lst):\n",
    "    flat_list=[]\n",
    "    \n",
    "    for i in lst:\n",
    "        if type(i) == list or type(i) == set or type(i) == tuple:\n",
    "            for j in i:\n",
    "                flat_list.append(j)\n",
    "        \n",
    "        elif type(i) == dict:\n",
    "            d_list= list(i.items())\n",
    "            for i in d_list:\n",
    "                for j in i:\n",
    "                    if type(j)== list or type(j) == set or type(j) == tuple:\n",
    "                        for k in j:\n",
    "                            flat_list.append(k)\n",
    "                    else:\n",
    "                        flat_list.append(j)\n",
    "                            \n",
    "        else :\n",
    "            flat_list.append(i)\n",
    "            \n",
    "  \n",
    "    print('flatlist: ',flat_list)\n",
    "    product=1\n",
    "    for i in flat_list:\n",
    "        if type(i)==int:\n",
    "            product*=i\n",
    "    return product\n",
    "\n",
    "\n",
    "list1 = [1,2,3,4, [44,55,66, True], False, (34,56,78,89,34), {1,2,3,3,2,1}, {1:34, \"key2\": [55, 67, 78, 89], 4: (45,\n",
    "            22, 61, 34)}, [56, 'data science'], 'Machine Learning']\n",
    "\n",
    "print('Product: ',product(list1))"
   ]
  },
  {
   "cell_type": "code",
   "execution_count": null,
   "id": "54b04299-4b74-43e5-b8e8-7d7da32b421c",
   "metadata": {},
   "outputs": [],
   "source": []
  },
  {
   "cell_type": "markdown",
   "id": "4cae3244-2315-4e93-90d5-d24608a5f698",
   "metadata": {},
   "source": [
    "Q2"
   ]
  },
  {
   "cell_type": "code",
   "execution_count": 39,
   "id": "517391c5-7663-4a42-8f03-900fc676c69c",
   "metadata": {},
   "outputs": [
    {
     "name": "stdout",
     "output_type": "stream",
     "text": [
      "i$wznt$to$yexome$z$dztz$sxientist\n"
     ]
    }
   ],
   "source": [
    "msg = \"I want to become a Data Scientist\"\n",
    "#msg.lower()\n",
    "\n",
    "enc_msg = map(lambda s : 'z' if s=='a' else 'y' if s=='b' else 'x' if s=='c' \n",
    "                   else '$' if s==' '  else s,msg.lower())\n",
    "\n",
    "\n",
    "new_msg =''\n",
    "for i in enc_msg:\n",
    "    new_msg+= i\n",
    "print(new_msg)"
   ]
  },
  {
   "cell_type": "code",
   "execution_count": null,
   "id": "32bfb3fb-1a24-4ce6-874b-1af45fbcdfe0",
   "metadata": {},
   "outputs": [],
   "source": []
  }
 ],
 "metadata": {
  "kernelspec": {
   "display_name": "Python 3 (ipykernel)",
   "language": "python",
   "name": "python3"
  },
  "language_info": {
   "codemirror_mode": {
    "name": "ipython",
    "version": 3
   },
   "file_extension": ".py",
   "mimetype": "text/x-python",
   "name": "python",
   "nbconvert_exporter": "python",
   "pygments_lexer": "ipython3",
   "version": "3.10.8"
  }
 },
 "nbformat": 4,
 "nbformat_minor": 5
}
