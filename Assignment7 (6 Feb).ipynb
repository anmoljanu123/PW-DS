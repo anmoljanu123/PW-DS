{
 "cells": [
  {
   "cell_type": "markdown",
   "id": "af6c084e-6fbc-4d64-a99d-c5d63453b6f2",
   "metadata": {},
   "source": [
    "Q1"
   ]
  },
  {
   "cell_type": "code",
   "execution_count": 3,
   "id": "ba35792c-bacf-49d7-8870-8f224f6fdf6e",
   "metadata": {},
   "outputs": [],
   "source": [
    "list1 = [1,2,3,4, [44,55,66, True], False, (34,56,78,89,34), {1,2,3,3,2,1}, {1:34, \"key2\": [55, 67, 78, 89], 4: (45,\n",
    "22, 61, 34)}, [56, 'data science'], 'Machine Learning']"
   ]
  },
  {
   "cell_type": "code",
   "execution_count": 6,
   "id": "61243c3a-2004-47d1-818a-8c933195e58c",
   "metadata": {},
   "outputs": [],
   "source": [
    "def product(lst):\n",
    "    flat_list=[]\n",
    "    for i in lst:\n",
    "        if type(i) == int:\n",
    "            flat_list.append(i)\n",
    "            \n",
    "        elif type(i) == list or type(i) == set or type(i) == tuple:\n",
    "            for j in i:\n",
    "                if type(j) == int:\n",
    "                    flat_list.append(j)\n",
    "        \n",
    "        elif type(i) == dict:\n",
    "            for m,n in i.items():\n",
    "                if type(m) == int:\n",
    "                    flat_list.append(m)\n",
    "                    \n",
    "                if type(n) == int:\n",
    "                    flat_list.append(n)\n",
    "                elif type(n) == list or type(n) == set or type(n) == tuple:\n",
    "                    for k in n:\n",
    "                        if type(k) == int:\n",
    "                            flat_list.append(k)\n",
    "        else :\n",
    "            continue\n",
    "            \n",
    "   # flat_list\n",
    "        \n",
    "    from functools import reduce\n",
    "    product= reduce(lambda x,y:x*y,flat_list)\n",
    "    \n",
    "    return product"
   ]
  },
  {
   "cell_type": "code",
   "execution_count": 7,
   "id": "5be73fdf-0c75-4a44-9d71-4a28c0c657dc",
   "metadata": {},
   "outputs": [
    {
     "data": {
      "text/plain": [
       "4134711838987085478833841242112000"
      ]
     },
     "execution_count": 7,
     "metadata": {},
     "output_type": "execute_result"
    }
   ],
   "source": [
    "product(list1)"
   ]
  },
  {
   "cell_type": "code",
   "execution_count": null,
   "id": "54b04299-4b74-43e5-b8e8-7d7da32b421c",
   "metadata": {},
   "outputs": [],
   "source": []
  },
  {
   "cell_type": "markdown",
   "id": "4cae3244-2315-4e93-90d5-d24608a5f698",
   "metadata": {},
   "source": [
    "Q2"
   ]
  },
  {
   "cell_type": "code",
   "execution_count": 39,
   "id": "517391c5-7663-4a42-8f03-900fc676c69c",
   "metadata": {},
   "outputs": [
    {
     "name": "stdout",
     "output_type": "stream",
     "text": [
      "i$wznt$to$yexome$z$dztz$sxientist\n"
     ]
    }
   ],
   "source": [
    "msg = \"I want to become a Data Scientist\"\n",
    "#msg.lower()\n",
    "\n",
    "enc_msg = map(lambda s : 'z' if s=='a' else 'y' if s=='b' else 'x' if s=='c' \n",
    "                   else '$' if s==' '  else s,msg.lower())\n",
    "\n",
    "\n",
    "new_msg =''\n",
    "for i in enc_msg:\n",
    "    new_msg+= i\n",
    "print(new_msg)"
   ]
  },
  {
   "cell_type": "code",
   "execution_count": null,
   "id": "32bfb3fb-1a24-4ce6-874b-1af45fbcdfe0",
   "metadata": {},
   "outputs": [],
   "source": []
  }
 ],
 "metadata": {
  "kernelspec": {
   "display_name": "Python 3 (ipykernel)",
   "language": "python",
   "name": "python3"
  },
  "language_info": {
   "codemirror_mode": {
    "name": "ipython",
    "version": 3
   },
   "file_extension": ".py",
   "mimetype": "text/x-python",
   "name": "python",
   "nbconvert_exporter": "python",
   "pygments_lexer": "ipython3",
   "version": "3.10.8"
  }
 },
 "nbformat": 4,
 "nbformat_minor": 5
}
