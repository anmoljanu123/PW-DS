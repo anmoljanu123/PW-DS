{
 "cells": [
  {
   "cell_type": "markdown",
   "id": "27e08313-1262-4b1f-9bd4-9cacccbbfb88",
   "metadata": {},
   "source": [
    "Assignment 3\n"
   ]
  },
  {
   "cell_type": "markdown",
   "id": "e750fab6-ea5b-4e79-ad24-562587a2b9d8",
   "metadata": {},
   "source": [
    "."
   ]
  },
  {
   "cell_type": "markdown",
   "id": "846a05c7-a5b6-4bac-95da-10478a54c5e3",
   "metadata": {},
   "source": [
    "."
   ]
  },
  {
   "cell_type": "markdown",
   "id": "66c0b391-f491-410b-9544-a0ff3ac84626",
   "metadata": {},
   "source": [
    "Q1"
   ]
  },
  {
   "cell_type": "markdown",
   "id": "3856a2bb-cf93-490d-8e9c-7dff9627454b",
   "metadata": {},
   "source": [
    "for loop is used when we have to iterate over the iterable collection or any object definite number of times i.e\n",
    "we know how many times the loop will run.\n",
    "\n",
    "Example-\n",
    "\n",
    "when we need to print numbers from 1 to 100 we use for loop"
   ]
  },
  {
   "cell_type": "code",
   "execution_count": null,
   "id": "60f5b9dc-af37-4cbb-962d-da665ab49c7d",
   "metadata": {},
   "outputs": [],
   "source": [
    "for i in range(1,101):\n",
    "    print(i)"
   ]
  },
  {
   "cell_type": "markdown",
   "id": "075d05f9-28c5-4686-8d5a-64e9bad5b53d",
   "metadata": {},
   "source": [
    "But in while loop we don't know how many times loop will be iterate so for that it uses condition so when the condition\n",
    "gets false loop will terminate.\n",
    "\n",
    "Example-\n",
    "\n",
    "keep adding the numbers until the user enters 0 and print the sum, here we will use while loop "
   ]
  },
  {
   "cell_type": "code",
   "execution_count": null,
   "id": "d99282d8-9964-4bf5-9586-43b2e9616fc0",
   "metadata": {},
   "outputs": [],
   "source": [
    "number= int(input(\"Enter number\"))\n",
    "sum=0\n",
    "while number!=0:\n",
    "    sum+=number\n",
    "    \n",
    "    number= int(input(\"Enter number\"))\n",
    "print(f\"sum is {sum}\")"
   ]
  },
  {
   "cell_type": "markdown",
   "id": "2eff7385-d140-48ee-b6e6-4653528b46ce",
   "metadata": {},
   "source": []
  },
  {
   "cell_type": "markdown",
   "id": "bbb66412-4f10-4303-bfbd-d10de2f0c4a8",
   "metadata": {},
   "source": [
    "Q2"
   ]
  },
  {
   "cell_type": "code",
   "execution_count": null,
   "id": "e70e6516-4bbf-4e40-a92b-d1cdac89845d",
   "metadata": {},
   "outputs": [],
   "source": [
    "#Using while loop\n",
    "\n",
    "num=1\n",
    "nsum= 0         #used for storing sum of numbers\n",
    "product=1       #used for storinng product of numbers\n",
    "\n",
    "while num<=10:\n",
    "    nsum+=num\n",
    "    product*=num\n",
    "    \n",
    "    num+=1\n",
    "print(f\"Sum of first 10 natural numbers is {nsum}\")\n",
    "print(f\"Product of first 10 natural numbers is {product}\")"
   ]
  },
  {
   "cell_type": "code",
   "execution_count": null,
   "id": "86a1d4ff-88fe-43f9-b6ff-33e5fe0a1e0b",
   "metadata": {},
   "outputs": [],
   "source": [
    "#Using for loop\n",
    "\n",
    "nsum= 0         #used for storing sum of numbers\n",
    "product=1       #used for storinng product of numbers\n",
    "\n",
    "for i in range(1,11):\n",
    "    nsum+=i\n",
    "    product*=i\n",
    "\n",
    "print(f\"Sum of first 10 natural numbers is {nsum}\")\n",
    "print(f\"Product of first 10 natural numbers is {product}\")"
   ]
  },
  {
   "cell_type": "code",
   "execution_count": null,
   "id": "31214a87-2890-4ce2-a26b-6866e6997e70",
   "metadata": {},
   "outputs": [],
   "source": []
  },
  {
   "cell_type": "markdown",
   "id": "9c006ea4-c7da-4df7-bcd7-8d3bfab30355",
   "metadata": {},
   "source": [
    "Q3"
   ]
  },
  {
   "cell_type": "code",
   "execution_count": null,
   "id": "2e35276d-5632-4e9d-89ad-f8054b79814c",
   "metadata": {},
   "outputs": [],
   "source": [
    "num_units = int(input(\"Enter the number of units consumed\"))\n",
    "bill=0\n",
    "if num_units <=100:\n",
    "    bill+= num_units* 4.5\n",
    "elif num_units> 100 and num_units <=200:\n",
    "    rem_unit= num_units - 100\n",
    "    bill+= 100* 4.5 + rem_unit*6\n",
    "elif num_units > 200 and num_units <=300:\n",
    "    rem_unit= num_units - 200\n",
    "    bill+= 100* 4.5 + 100*6 + rem_unit*10\n",
    "elif num_units >=300:\n",
    "    rem_unit= num_units - 300\n",
    "    bill+= 100* 4.5 + 100*6 + 100*10 + rem_unit*20\n",
    "print(f\"Your electricity bill is {bill}\")"
   ]
  },
  {
   "cell_type": "code",
   "execution_count": null,
   "id": "91be6b02-f081-4e74-904d-4c9d1deff2ee",
   "metadata": {},
   "outputs": [],
   "source": []
  },
  {
   "cell_type": "markdown",
   "id": "74b806b6-2dbe-4916-bf89-d29035e4bc13",
   "metadata": {},
   "source": [
    "Q4"
   ]
  },
  {
   "cell_type": "code",
   "execution_count": null,
   "id": "0399612f-0763-46ab-8c50-5f43fdd5d672",
   "metadata": {},
   "outputs": [],
   "source": [
    "#using for loop\n",
    "l=[]\n",
    "for i in range(1,101):\n",
    "    l.append(i)\n",
    "# list created\n",
    "l1=[]\n",
    "for i in l:\n",
    "    cube = i**3\n",
    "    if cube%4==0 or cube%5==0:\n",
    "        l1.append(i)\n",
    "print(l1)"
   ]
  },
  {
   "cell_type": "code",
   "execution_count": null,
   "id": "04bd44ce-1c5c-45cd-9667-1566208ca368",
   "metadata": {},
   "outputs": [],
   "source": [
    "#using while loop\n",
    "l=[]\n",
    "for i in range(1,101):\n",
    "    l.append(i)\n",
    "# list created\n",
    "l1=[]\n",
    "i=0\n",
    "while i<len(l) :\n",
    "    cube = l[i]**3\n",
    "    if cube%4 == 0 or cube%5==0:\n",
    "        l1.append(l[i])\n",
    "    i+=1\n",
    "print(l1)"
   ]
  },
  {
   "cell_type": "code",
   "execution_count": null,
   "id": "04d9dc91-52f2-41ad-a9f1-8b69849947f1",
   "metadata": {},
   "outputs": [],
   "source": []
  },
  {
   "cell_type": "markdown",
   "id": "4960d35c-89b8-4803-838f-27e9dcfcbe9c",
   "metadata": {},
   "source": [
    "\n",
    "Q5"
   ]
  },
  {
   "cell_type": "code",
   "execution_count": null,
   "id": "5cd205a8-5d9f-4a75-b598-a07cbf8a44c4",
   "metadata": {},
   "outputs": [],
   "source": [
    "#let us first create list of vowels \n",
    "vowels= [\"a\",\"e\",\"i\",\"o\",\"u\"]\n",
    "count=0                                  #it will store the number of vowels in string\n",
    "\n",
    "string = \"I want to become a data scientist\"\n",
    "string = string.lower()                  #converting string to lower case for ease of work \n",
    "\n",
    "for i in string:\n",
    "    if i in vowels :\n",
    "        count+=1\n",
    "print(f\"There are {count} vowels in the given string\")"
   ]
  },
  {
   "cell_type": "code",
   "execution_count": null,
   "id": "00522a63-42b6-41cc-9369-23b824e353c3",
   "metadata": {},
   "outputs": [],
   "source": []
  }
 ],
 "metadata": {
  "kernelspec": {
   "display_name": "Python 3 (ipykernel)",
   "language": "python",
   "name": "python3"
  },
  "language_info": {
   "codemirror_mode": {
    "name": "ipython",
    "version": 3
   },
   "file_extension": ".py",
   "mimetype": "text/x-python",
   "name": "python",
   "nbconvert_exporter": "python",
   "pygments_lexer": "ipython3",
   "version": "3.10.8"
  }
 },
 "nbformat": 4,
 "nbformat_minor": 5
}
