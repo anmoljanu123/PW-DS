{
 "cells": [
  {
   "cell_type": "markdown",
   "id": "cdd95f2d-f0bd-43ea-8a80-cc268825bc06",
   "metadata": {},
   "source": [
    "Q1"
   ]
  },
  {
   "cell_type": "code",
   "execution_count": 1,
   "id": "2d023ecb-50fc-40f8-8618-cae92c57959f",
   "metadata": {},
   "outputs": [],
   "source": [
    "l= [('Sachin Tendulkar', 34357), ('Ricky Ponting', 27483), ('Jack Kallis', 25534), ('Virat Kohli', 24936)]"
   ]
  },
  {
   "cell_type": "code",
   "execution_count": 16,
   "id": "c74c1ef4-62c1-4a9c-a3d8-564ec9e5e1b6",
   "metadata": {},
   "outputs": [],
   "source": [
    "sort= sorted(l,key=lambda x:x[1])"
   ]
  },
  {
   "cell_type": "code",
   "execution_count": 17,
   "id": "978f3e2b-451b-4ce9-8606-85a725ef09c0",
   "metadata": {},
   "outputs": [
    {
     "data": {
      "text/plain": [
       "[('Virat Kohli', 24936),\n",
       " ('Jack Kallis', 25534),\n",
       " ('Ricky Ponting', 27483),\n",
       " ('Sachin Tendulkar', 34357)]"
      ]
     },
     "execution_count": 17,
     "metadata": {},
     "output_type": "execute_result"
    }
   ],
   "source": [
    "sort"
   ]
  },
  {
   "cell_type": "code",
   "execution_count": null,
   "id": "0a3f8c50-cf80-4a80-a4ce-7bb50d38af34",
   "metadata": {},
   "outputs": [],
   "source": []
  },
  {
   "cell_type": "markdown",
   "id": "68411198-88c2-4a2a-a565-5f9daf5b69f5",
   "metadata": {},
   "source": [
    "Q2"
   ]
  },
  {
   "cell_type": "code",
   "execution_count": 8,
   "id": "d2f7f23d-942f-4a56-a6ed-58abfde787b8",
   "metadata": {},
   "outputs": [],
   "source": [
    "l2= [1, 2, 3, 4, 5, 6, 7, 8, 9, 10]"
   ]
  },
  {
   "cell_type": "code",
   "execution_count": 9,
   "id": "cb8c94ab-9083-4791-bdc4-da214360002f",
   "metadata": {},
   "outputs": [
    {
     "data": {
      "text/plain": [
       "[1, 4, 9, 16, 25, 36, 49, 64, 81, 100]"
      ]
     },
     "execution_count": 9,
     "metadata": {},
     "output_type": "execute_result"
    }
   ],
   "source": [
    "sq= list(map(lambda i: i*i,l2))\n",
    "sq"
   ]
  },
  {
   "cell_type": "code",
   "execution_count": null,
   "id": "0dc0741d-7f1a-4975-8cc6-bc951cd09f57",
   "metadata": {},
   "outputs": [],
   "source": []
  },
  {
   "cell_type": "markdown",
   "id": "71849155-a5e0-40e3-a25d-1c356ac29c2f",
   "metadata": {},
   "source": [
    "Q3"
   ]
  },
  {
   "cell_type": "code",
   "execution_count": 18,
   "id": "c511e178-b5a6-4368-a50e-608a408d7e3f",
   "metadata": {},
   "outputs": [],
   "source": [
    "s=[1, 2, 3, 4, 5, 6, 7, 8, 9, 10]"
   ]
  },
  {
   "cell_type": "code",
   "execution_count": 20,
   "id": "b8faa997-e7a3-42d9-b8d9-307a9cadca08",
   "metadata": {},
   "outputs": [],
   "source": [
    "t= tuple(map(lambda i: str(i),s))"
   ]
  },
  {
   "cell_type": "code",
   "execution_count": 21,
   "id": "6d4513b2-2d02-4073-bbd4-fec8e2820267",
   "metadata": {},
   "outputs": [
    {
     "data": {
      "text/plain": [
       "('1', '2', '3', '4', '5', '6', '7', '8', '9', '10')"
      ]
     },
     "execution_count": 21,
     "metadata": {},
     "output_type": "execute_result"
    }
   ],
   "source": [
    "t"
   ]
  },
  {
   "cell_type": "code",
   "execution_count": null,
   "id": "6e85fab2-ba20-4ba6-be87-89531daca3e3",
   "metadata": {},
   "outputs": [],
   "source": []
  },
  {
   "cell_type": "markdown",
   "id": "6a3c54b7-936d-4fc7-a486-d0b8bbe3aab1",
   "metadata": {},
   "source": [
    "Q4"
   ]
  },
  {
   "cell_type": "code",
   "execution_count": 24,
   "id": "f46af5ce-45d9-411e-9039-7d2ee99fe76a",
   "metadata": {},
   "outputs": [],
   "source": [
    "from functools import reduce \n",
    "ls= range(1,26)\n",
    "pdt= reduce(lambda x,y:x*y,ls)"
   ]
  },
  {
   "cell_type": "code",
   "execution_count": 25,
   "id": "fa98c213-fc67-418e-becf-1980fee59f59",
   "metadata": {},
   "outputs": [
    {
     "data": {
      "text/plain": [
       "15511210043330985984000000"
      ]
     },
     "execution_count": 25,
     "metadata": {},
     "output_type": "execute_result"
    }
   ],
   "source": [
    "pdt"
   ]
  },
  {
   "cell_type": "code",
   "execution_count": null,
   "id": "233107ff-1bd8-4dca-8a5f-307a840a999f",
   "metadata": {},
   "outputs": [],
   "source": []
  },
  {
   "cell_type": "markdown",
   "id": "988cd8c2-93cf-42f1-ad69-b650fb813f3b",
   "metadata": {},
   "source": [
    "Q5"
   ]
  },
  {
   "cell_type": "code",
   "execution_count": 35,
   "id": "eafe7261-06dd-475d-96f1-bf2da55dfb0d",
   "metadata": {},
   "outputs": [],
   "source": [
    "num=[2,3,6,9,27,60,90,120,55,46]"
   ]
  },
  {
   "cell_type": "code",
   "execution_count": 36,
   "id": "2d4903dd-8cf7-4441-8e4d-81ed8a714000",
   "metadata": {},
   "outputs": [],
   "source": [
    "flt = list(filter(lambda i: i%2==0 and i%3==0, num))"
   ]
  },
  {
   "cell_type": "code",
   "execution_count": 37,
   "id": "29044a22-8a19-4688-b914-d66f94f3a971",
   "metadata": {},
   "outputs": [
    {
     "data": {
      "text/plain": [
       "[6, 60, 90, 120]"
      ]
     },
     "execution_count": 37,
     "metadata": {},
     "output_type": "execute_result"
    }
   ],
   "source": [
    "flt"
   ]
  },
  {
   "cell_type": "code",
   "execution_count": null,
   "id": "65d0c5c6-3e12-4f12-b58c-76507c9afa9d",
   "metadata": {},
   "outputs": [],
   "source": []
  },
  {
   "cell_type": "markdown",
   "id": "2e01c3da-22aa-4e10-acf0-ae33d3859ee9",
   "metadata": {},
   "source": [
    "Q6"
   ]
  },
  {
   "cell_type": "code",
   "execution_count": 38,
   "id": "e3804ac2-dd98-4998-b587-f2bdb5c45a83",
   "metadata": {},
   "outputs": [],
   "source": [
    "lst=['python', 'php', 'aba', 'radar', 'level']"
   ]
  },
  {
   "cell_type": "code",
   "execution_count": 39,
   "id": "d1c8a031-04f7-48ca-9004-3e5c06ad3b38",
   "metadata": {},
   "outputs": [],
   "source": [
    "lst_new= list(filter(lambda s: s==s[::-1],lst))"
   ]
  },
  {
   "cell_type": "code",
   "execution_count": 40,
   "id": "2092ebbc-ffe6-4b6e-93ad-9403ba9b3006",
   "metadata": {},
   "outputs": [
    {
     "data": {
      "text/plain": [
       "['php', 'aba', 'radar', 'level']"
      ]
     },
     "execution_count": 40,
     "metadata": {},
     "output_type": "execute_result"
    }
   ],
   "source": [
    "lst_new"
   ]
  },
  {
   "cell_type": "code",
   "execution_count": null,
   "id": "05a0b819-47d7-4ec3-beb7-76e855ff70e0",
   "metadata": {},
   "outputs": [],
   "source": []
  }
 ],
 "metadata": {
  "kernelspec": {
   "display_name": "Python 3 (ipykernel)",
   "language": "python",
   "name": "python3"
  },
  "language_info": {
   "codemirror_mode": {
    "name": "ipython",
    "version": 3
   },
   "file_extension": ".py",
   "mimetype": "text/x-python",
   "name": "python",
   "nbconvert_exporter": "python",
   "pygments_lexer": "ipython3",
   "version": "3.10.8"
  }
 },
 "nbformat": 4,
 "nbformat_minor": 5
}
